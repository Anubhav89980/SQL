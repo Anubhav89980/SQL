{
 "cells": [
  {
   "cell_type": "code",
   "execution_count": 1,
   "id": "9314aeae-12fe-4d31-878a-a3668a338375",
   "metadata": {},
   "outputs": [],
   "source": [
    "#Database: A database is an organized collection of structured data that is stored electronically, designed for easy access, management, and manipulation. It allows for efficient storage, retrieval, modification, and deletion of data.\n",
    "\n",
    "#SQL (Structured Query Language) Databases:\n",
    "\n",
    "#Structure: Data is organized in tables with rows and columns, where each row represents a record and each column represents an attribute.\n",
    "#Schema: Follows a predefined schema, enforcing data integrity and consistency.\n",
    "#ACID Compliance: Adheres to ACID properties (Atomicity, Consistency, Isolation, Durability) for reliable transactions.\n",
    "#Examples: MySQL, PostgreSQL, Oracle Database, Microsoft SQL Server.\n",
    "#NoSQL (Not Only SQL) Databases:\n",
    "\n",
    "#Structure: Offer flexible data models beyond tabular structures, such as key-value pairs, document-based, graph-based, or wide-column stores.\n",
    "#Schema: Often schema-less or schema-flexible, accommodating unstructured or semi-structured data.\n",
    "#Scalability: Designed for horizontal scaling, handling large datasets and high volumes of transactions.\n",
    "#Examples: MongoDB, Cassandra, Redis, CouchDB."
   ]
  },
  {
   "cell_type": "code",
   "execution_count": 2,
   "id": "ea768f79-7336-490e-8731-c731d31aa91f",
   "metadata": {},
   "outputs": [],
   "source": [
    "#DDL (Data Definition Language): Commands used to define the database structure, including tables, views, indexes, and other schema objects.\n",
    "\n",
    "#CREATE: Creates new database objects.\n",
    "#Example: CREATE TABLE Customers (id INT PRIMARY KEY, name VARCHAR(255));\n",
    "#DROP: Deletes existing database objects.\n",
    "#Example: DROP TABLE Customers;\n",
    "#ALTER: Modifies the structure of existing database objects.\n",
    "#Example: ALTER TABLE Customers ADD COLUMN email VARCHAR(255);\n",
    "#TRUNCATE: Removes all data from a table, but the table structure remains intact.\n",
    "#Example: TRUNCATE TABLE Customers;"
   ]
  },
  {
   "cell_type": "code",
   "execution_count": 3,
   "id": "bcb01e06-440b-4e52-ba70-8cb8cbe540ea",
   "metadata": {},
   "outputs": [],
   "source": [
    "#DML (Data Manipulation Language): Commands used to manipulate data within database tables.\n",
    "\n",
    "#INSERT: Adds new rows to a table.\n",
    "#Example: INSERT INTO Customers (id, name) VALUES (1, 'anubhav');\n",
    "#UPDATE: Modifies existing data in a table.\n",
    "#Example: UPDATE Customers SET email = 'anubhav@gmail.com' WHERE id = 1;\n",
    "#DELETE: Removes rows from a table.\n",
    "#Example: DELETE FROM Customers WHERE id = 2;"
   ]
  },
  {
   "cell_type": "code",
   "execution_count": null,
   "id": "7763530f-acdd-4918-9283-77027bf7cb2b",
   "metadata": {},
   "outputs": [],
   "source": [
    "#Data Query Language): Commands used to retrieve data from database tables.\n",
    "\n",
    "#SELECT: Retrieves data from one or more tables based on specified criteria.\n",
    "#Example: SELECT name, email FROM Customers WHERE city = 'New York';"
   ]
  },
  {
   "cell_type": "code",
   "execution_count": 4,
   "id": "0f55fd40-616c-4f4c-89ec-b7d09ac35a75",
   "metadata": {},
   "outputs": [],
   "source": [
    "#Primary Key: A column or set of columns that uniquely identifies each row in a table. It ensures data integrity and prevents duplicate records.\n",
    "#Foreign Key: A column or set of columns in one table that references the primary key of another table, establishing relationships between tables. It maintains referential integrity and prevents orphaned records."
   ]
  },
  {
   "cell_type": "code",
   "execution_count": 5,
   "id": "6509752b-9098-4727-a6dc-ab30a0ef61e5",
   "metadata": {},
   "outputs": [],
   "source": [
    "#import mysql.connector\n",
    "\n",
    "#mydb = mysql.connector.connect(\n",
    "  #  host=\"localhost\",\n",
    " #   user=\"yourusername\",\n",
    " #   password=\"yourpassword\",\n",
    " #   database=\"mydatabase\"\n",
    "# )\n",
    "\n",
    "#mycursor = mydb.cursor()\n",
    "\n"
   ]
  },
  {
   "cell_type": "code",
   "execution_count": null,
   "id": "07e20805-2085-4c59-92a5-5e5186197313",
   "metadata": {},
   "outputs": [],
   "source": [
    "#Here's the general order of execution for SQL clauses in a query:\n",
    "\n",
    "#FROM:\n",
    "\n",
    "#Identifies the tables to be accessed.\n",
    "#Joins are performed if specified.\n",
    "#WHERE:\n",
    "\n",
    "#Filters rows based on specified conditions.\n",
    "#Restricts the data before further processing.\n",
    "#GROUP BY:\n",
    "\n",
    "#Groups rows with matching values in specified columns.\n",
    "#Aggregate functions are applied to each group.\n",
    "#HAVING:\n",
    "\n",
    "#Filters groups based on conditions applied to aggregated results.\n",
    "#Acts as a filter for the grouped data.\n",
    "#SELECT:\n",
    "\n",
    "#Specifies the columns to be retrieved from the remaining rows.\n",
    "#Determines the final output structure.\n",
    "#DISTINCT:\n",
    "\n",
    "#Eliminates duplicate rows from the result set.\n",
    "#Ensures only unique values are returned.\n",
    "#ORDER BY:\n",
    "\n",
    "#Sorts the final result set based on specified columns and order (ascending or descending).\n",
    "#Arranges the output in a desired sequence.\n",
    "TOP or LIMIT:\n",
    "\n",
    "Restricts the number of rows returned in the final result set.\n",
    "Controls the output size."
   ]
  }
 ],
 "metadata": {
  "kernelspec": {
   "display_name": "Python 3 (ipykernel)",
   "language": "python",
   "name": "python3"
  },
  "language_info": {
   "codemirror_mode": {
    "name": "ipython",
    "version": 3
   },
   "file_extension": ".py",
   "mimetype": "text/x-python",
   "name": "python",
   "nbconvert_exporter": "python",
   "pygments_lexer": "ipython3",
   "version": "3.10.8"
  }
 },
 "nbformat": 4,
 "nbformat_minor": 5
}
